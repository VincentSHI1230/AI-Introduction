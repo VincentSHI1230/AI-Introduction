{
 "cells": [
  {
   "cell_type": "code",
   "execution_count": 1,
   "metadata": {},
   "outputs": [
    {
     "name": "stdout",
     "output_type": "stream",
     "text": [
      "转换成数字表示的x: [[0. 0. 1. 0. 1. 1. 0. 0. 1. 0.]\n",
      " [0. 0. 1. 1. 0. 1. 0. 0. 1. 0.]\n",
      " [1. 0. 0. 0. 1. 1. 0. 0. 1. 0.]\n",
      " [0. 1. 0. 0. 1. 0. 0. 1. 1. 0.]\n",
      " [0. 1. 0. 0. 1. 0. 1. 0. 0. 1.]\n",
      " [0. 1. 0. 1. 0. 0. 1. 0. 0. 1.]\n",
      " [1. 0. 0. 1. 0. 0. 1. 0. 0. 1.]\n",
      " [0. 0. 1. 0. 1. 0. 0. 1. 1. 0.]\n",
      " [0. 0. 1. 0. 1. 0. 1. 0. 0. 1.]\n",
      " [0. 1. 0. 0. 1. 0. 0. 1. 0. 1.]\n",
      " [0. 0. 1. 1. 0. 0. 0. 1. 0. 1.]\n",
      " [1. 0. 0. 1. 0. 0. 0. 1. 1. 0.]\n",
      " [1. 0. 0. 0. 1. 1. 0. 0. 0. 1.]\n",
      " [0. 1. 0. 1. 0. 0. 0. 1. 1. 0.]]\n",
      "属性名称为： ['age=middle_aged', 'age=senior', 'age=youth', 'credit_rating=excellent', 'credit_rating=fair', 'income=high', 'income=low', 'income=medium', 'student=no', 'student=yes']\n",
      "标签y: ['no', 'no', 'yes', 'yes', 'yes', 'no', 'yes', 'no', 'yes', 'yes', 'yes', 'yes', 'yes', 'no']\n",
      "转换后的标签y:[[0]\n",
      " [0]\n",
      " [1]\n",
      " [1]\n",
      " [1]\n",
      " [0]\n",
      " [1]\n",
      " [0]\n",
      " [1]\n",
      " [1]\n",
      " [1]\n",
      " [1]\n",
      " [1]\n",
      " [0]]\n"
     ]
    },
    {
     "name": "stderr",
     "output_type": "stream",
     "text": [
      "c:\\Users\\syl20\\AppData\\Local\\Programs\\Python\\Python310\\lib\\site-packages\\sklearn\\utils\\deprecation.py:87: FutureWarning: Function get_feature_names is deprecated; get_feature_names is deprecated in 1.0 and will be removed in 1.2. Please use get_feature_names_out instead.\n",
      "  warnings.warn(msg, category=FutureWarning)\n",
      "c:\\Users\\syl20\\AppData\\Local\\Programs\\Python\\Python310\\lib\\site-packages\\sklearn\\utils\\deprecation.py:87: FutureWarning: Function get_feature_names is deprecated; get_feature_names is deprecated in 1.0 and will be removed in 1.2. Please use get_feature_names_out instead.\n",
      "  warnings.warn(msg, category=FutureWarning)\n"
     ]
    },
    {
     "data": {
      "text/plain": [
       "'BuyComputer.pdf'"
      ]
     },
     "execution_count": 1,
     "metadata": {},
     "output_type": "execute_result"
    }
   ],
   "source": [
    "# -*- coding: utf-8 -*- #\n",
    "import graphviz\n",
    "from sklearn.feature_extraction import DictVectorizer\n",
    "from sklearn import tree\n",
    "from sklearn import preprocessing\n",
    "import csv\n",
    "\n",
    "# 载入数据\n",
    "Dtree = open(r'DecisionTreeSet.csv', 'r')\n",
    "reader = csv.reader(Dtree)\n",
    "\n",
    "# 读取第一行\n",
    "headers = reader.__next__()\n",
    "\n",
    "# 定义两个列表，存放特征和标签\n",
    "feature = []\n",
    "label = []\n",
    "\n",
    "for row in reader:  # 每次从reader里面读取一行\n",
    "    # 把label存入list\n",
    "    label.append(row[-1])  # 每一行最后一列的数据存入标签的list中\n",
    "    rowDict = {}\n",
    "    for i in range(1, len(row) - 1):  # 某一行的每一列(除第一行，最后一列以外)对应元素遍历，存入rowDict中\n",
    "        # 建立一个数据字典\n",
    "        rowDict[headers[i]] = row[i]\n",
    "    # 把数据字典存入list\n",
    "    feature.append(rowDict)  # 再将每个rowDict保存到特征list\n",
    "\n",
    "# 将上面的字符表示转化为数字\n",
    "vec = DictVectorizer()  # DictVectorizer类可以将字典里的字符转换为数字形式\n",
    "x = vec.fit_transform(feature).toarray()\n",
    "print('转换成数字表示的x: ' + str(x))\n",
    "\n",
    "# x中每一列对应的属性名称，1代表属于该类\n",
    "print('属性名称为：', vec.get_feature_names())\n",
    "\n",
    "# 把标签转换成 0 1表示\n",
    "lb = preprocessing.LabelBinarizer()\n",
    "y = lb.fit_transform(label)\n",
    "print(\"标签y:\", label)\n",
    "print(\"转换后的标签y:\" + str(y))\n",
    "\n",
    "# 创建决策树模型\n",
    "# criterion默认是gini，即CART算法，entropy是ID3算法\n",
    "model = tree.DecisionTreeClassifier(criterion='entropy')\n",
    "model.fit(x, y)\n",
    "\n",
    "# 画出决策树\n",
    "\n",
    "dot_data = tree.export_graphviz(model,\n",
    "                                out_file=None,\n",
    "                                feature_names=vec.get_feature_names(),\n",
    "                                class_names=lb.classes_,\n",
    "                                filled=True,\n",
    "                                rounded=True,\n",
    "                                special_characters=True)\n",
    "graph = graphviz.Source(dot_data)\n",
    "graph.render('BuyComputer')\n"
   ]
  }
 ],
 "metadata": {
  "kernelspec": {
   "display_name": "Python 3.10.4 64-bit",
   "language": "python",
   "name": "python3"
  },
  "language_info": {
   "codemirror_mode": {
    "name": "ipython",
    "version": 3
   },
   "file_extension": ".py",
   "mimetype": "text/x-python",
   "name": "python",
   "nbconvert_exporter": "python",
   "pygments_lexer": "ipython3",
   "version": "3.10.4"
  },
  "orig_nbformat": 4,
  "vscode": {
   "interpreter": {
    "hash": "1608450a02e6a97ec355d20a5f4c12ad3b904c4ce94463b3fe1d736c2c4ff2af"
   }
  }
 },
 "nbformat": 4,
 "nbformat_minor": 2
}
