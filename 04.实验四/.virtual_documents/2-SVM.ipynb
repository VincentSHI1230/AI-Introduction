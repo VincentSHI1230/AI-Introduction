import numpy as np
from matplotlib import pyplot as plt
from sklearn.svm import SVC
from sklearn.datasets import load_iris
from sklearn.model_selection import train_test_split

# 导入sklearn中的鸢尾花数据集
data = load_iris()

# 获取数据集中 data 和 target，
# data中的是鸢尾花的四个属性：花萼长度（Sepal Length）、花萼宽度（Sepal Width）、花瓣长度（Petal Length）、花瓣宽度（Petal Width）
# target是鸢尾花的3个种类，标签0、1、2分别表示山鸢尾（Setosa）、变色鸢尾（Versicolor）、维吉尼亚鸢尾（Virginical）
X = data['data']
y = data['target']

# 分离数据 (target有0，1，2,即鸢尾花的3个类别；!=A，就是舍去 target=A 的数据)
A = 2  # A对应着3个类别编号，可以是0，1，2
X = X[y != A, 0:2]  # A=2时，X 取的是与 y=0,1 对应的那些特征数据
y = y[y != A]

# 对数据进行标准化
# Z-score标准化方法：（x-平均数）/标准差
X -= np.mean(X, axis=0)
X /= np.std(X, axis=0, ddof=1)
m = len(X)

# 划分训练集与测试集，训练集与测试集为 7:3
X_train, X_test, y_train, y_test = train_test_split(
    X, y, train_size=0.7, random_state=0)  # 由于数据是有序得，所以要随机选取

# 创建SVM模型
# 惩罚参数 C，默认值是1
# kernel核函数，默认是rbf，可以是‘linear’, ‘poly’, ‘rbf’, ‘sigmoid’, ‘precomputed’
model_svm = SVC(C=1, kernel='rbf')

# 调用fit函数训练模型
model_svm.fit(X_train, y_train)

# 查看准确率
acc = model_svm.score(X_test, y_test)
print('测试集的准确率为：', acc)

# 开始画图部分
# 确定画图的范围
x1_min, x1_max, x2_min, x2_max = np.min(X[:, 0]), np.max(
    X[:, 0]), np.min(X[:, 1]), np.max(X[:, 1])
# # 将画布切割成200*200
x1, x2 = np.mgrid[x1_min:x1_max:200j, x2_min:x2_max:200j]
# # 计算点到超平面的距离
# # 首先对数据进行拼接
x1x2 = np.c_[x1.ravel(), x2.ravel()]
z = model_svm.decision_function(x1x2)
z = z.reshape(x1.shape)

# 画出所有的样本点
plt.scatter(X[:, 0], X[:, 1], c=y, zorder=10)

# 画等值线
plt.contour(x1, x2, z, levels=[-1, 0, 1])
plt.title('svm,not target %d' % A)
plt.show()

