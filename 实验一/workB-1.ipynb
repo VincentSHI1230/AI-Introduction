{
 "cells": [
  {
   "cell_type": "markdown",
   "metadata": {},
   "source": [
    "题目1：利用附件 1 的数据，统计出每个企业进项发票中的有效发票数量，以及有效发票的金额总数，并将结果打印出来。"
   ]
  },
  {
   "cell_type": "code",
   "execution_count": 1,
   "metadata": {},
   "outputs": [
    {
     "name": "stdout",
     "output_type": "stream",
     "text": [
      "有效发票数: 203339\n",
      "有效发票总额: 9,254,023,525.71\n"
     ]
    }
   ],
   "source": [
    "import pandas as pd\n",
    "excel = pd.read_excel('附件1.xlsx', sheet_name='进项发票信息')\n",
    "valid = excel[excel['发票状态'] == '有效发票']\n",
    "print('有效发票数:', len(valid))\n",
    "total = sum(valid['金额'])\n",
    "print(f'有效发票总额: {total:,.2f}')\n"
   ]
  }
 ],
 "metadata": {
  "kernelspec": {
   "display_name": "Python 3.10.4 64-bit",
   "language": "python",
   "name": "python3"
  },
  "language_info": {
   "codemirror_mode": {
    "name": "ipython",
    "version": 3
   },
   "file_extension": ".py",
   "mimetype": "text/x-python",
   "name": "python",
   "nbconvert_exporter": "python",
   "pygments_lexer": "ipython3",
   "version": "3.10.4"
  },
  "orig_nbformat": 4,
  "vscode": {
   "interpreter": {
    "hash": "1608450a02e6a97ec355d20a5f4c12ad3b904c4ce94463b3fe1d736c2c4ff2af"
   }
  }
 },
 "nbformat": 4,
 "nbformat_minor": 2
}
