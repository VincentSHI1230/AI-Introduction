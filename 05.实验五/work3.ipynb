{
 "cells": [
  {
   "cell_type": "code",
   "execution_count": 6,
   "metadata": {},
   "outputs": [
    {
     "name": "stdout",
     "output_type": "stream",
     "text": [
      "最短路径 [3, 4, 6, 7]\n",
      "最短距离 8\n"
     ]
    }
   ],
   "source": [
    "import networkx as nx\n",
    "\n",
    "List = [(0, 1, 1), (0, 2, 2), (0, 4, 7), (0, 6, 4), (0, 7, 8), (1, 2, 2), (1, 3, 3), (1, 7, 7),\n",
    "        (2, 3, 1), (2, 4, 5), (3, 4, 3), (3, 5, 6), (4, 5, 4), (4, 6, 3), (5, 6, 6), (5, 7, 4), (6, 7, 2)]\n",
    "G = nx.Graph()\n",
    "G.add_weighted_edges_from(List)\n",
    "print('最短路径', nx.shortest_path(G, source=3, target=7, weight='weight'))\n",
    "print('最短距离', nx.shortest_path_length(G, source=3, target=7, weight='weight'))\n"
   ]
  }
 ],
 "metadata": {
  "kernelspec": {
   "display_name": "Python 3 (ipykernel)",
   "language": "python",
   "name": "python3"
  },
  "language_info": {
   "codemirror_mode": {
    "name": "ipython",
    "version": 3
   },
   "file_extension": ".py",
   "mimetype": "text/x-python",
   "name": "python",
   "nbconvert_exporter": "python",
   "pygments_lexer": "ipython3",
   "version": "3.10.5"
  },
  "vscode": {
   "interpreter": {
    "hash": "1608450a02e6a97ec355d20a5f4c12ad3b904c4ce94463b3fe1d736c2c4ff2af"
   }
  }
 },
 "nbformat": 4,
 "nbformat_minor": 4
}
